{
 "cells": [
  {
   "cell_type": "markdown",
   "id": "hungry-double",
   "metadata": {},
   "source": [
    "## Python API Tutorial: Getting Started with APIs"
   ]
  },
  {
   "cell_type": "markdown",
   "id": "criminal-spread",
   "metadata": {},
   "source": [
    "In this Python API tutorial, we’ll learn how to retrieve data for data science projects. There are millions of APIs online which provide access to data. Websites like Reddit, Twitter, and Facebook all offer certain data through their APIs.\n",
    "\n",
    "To use an API, you make a request to a remote web server, and retrieve the data you need.\n",
    "\n",
    "But why use an API instead of a static CSV dataset you can download from the web? APIs are useful in the following cases:"
   ]
  },
  {
   "cell_type": "markdown",
   "id": "signed-america",
   "metadata": {},
   "source": [
    "## Avantage of API \n",
    "\n",
    "<b>The data is changing quickly</b>. An example of this is stock price data. It doesn’t really make sense to regenerate a dataset and download it every minute — this will take a lot of bandwidth, and be pretty slow. \n",
    "\n",
    "<b>You want a small piece of a much larger set of data</b>. Reddit comments are one example. What if you want to just pull your own comments on Reddit? It doesn’t make much sense to download the entire Reddit database, then filter just your own comments.\n",
    "\n",
    "<b>There is repeated computation involved</b>. Spotify has an API that can tell you the genre of a piece of music. You could theoretically create your own classifier, and use it to compute music categories, but you’ll never have as much data as Spotify does."
   ]
  },
  {
   "cell_type": "markdown",
   "id": "parliamentary-coupon",
   "metadata": {},
   "source": [
    "In cases like the ones above, an API is the right solution. In this blog post, we’ll be querying a simple API to retrieve data about the International Space Station (ISS)."
   ]
  },
  {
   "cell_type": "markdown",
   "id": "architectural-breed",
   "metadata": {},
   "source": [
    "# What is an API?"
   ]
  },
  {
   "cell_type": "markdown",
   "id": "interim-briefs",
   "metadata": {},
   "source": [
    "An API, or Application Programming Interface, is a server that you can use to retrieve and send data to using code. APIs are most commonly used to retrieve data, and that will be the focus of this beginner tutorial.\n",
    "\n",
    "When we want to receive data from an API, we need to make a request. Requests are used all over the web. For instance, when you visited this blog post, your web browser made a request to the Dataquest web server, which responded with the content of this web page. \n",
    "<img src=\"api.PNG\">"
   ]
  },
  {
   "cell_type": "markdown",
   "id": "welsh-escape",
   "metadata": {},
   "source": [
    "In order to work with APIs in Python, we need tools that will make those requests. In Python, the most common library for making requests and working with APIs is the requests library. The requests library isn’t part of the standard Python library, so you’ll need to install it to get started.\n",
    "\n",
    "If you use pip to manage your Python packages, you can install requests using the following command:"
   ]
  },
  {
   "cell_type": "markdown",
   "id": "confidential-person",
   "metadata": {},
   "source": [
    "#### pip install requests\n",
    "or \n",
    "#### conda install requests"
   ]
  },
  {
   "cell_type": "markdown",
   "id": "dominican-algebra",
   "metadata": {},
   "source": [
    "Once you’ve installed the library, you’ll need to import it. Let’s start with that important step: "
   ]
  },
  {
   "cell_type": "code",
   "execution_count": 3,
   "id": "selective-logging",
   "metadata": {},
   "outputs": [],
   "source": [
    "import requests"
   ]
  },
  {
   "cell_type": "markdown",
   "id": "mathematical-safety",
   "metadata": {},
   "source": [
    "Now that we’ve installed and imported the requests library, let’s start using it."
   ]
  },
  {
   "cell_type": "markdown",
   "id": "crude-portrait",
   "metadata": {},
   "source": [
    "## Making Our First API Request\n",
    "\n",
    "There are many different types of requests. The most commonly used one, a GET request, is used to retrieve data. Because we’ll just be working with retrieving data, our focus will be on making ‘get’ requests.\n",
    "\n",
    "When we make a request, the response from the API comes with a response code which tells us whether our request was successful. Response codes are important because they immediately tell us if something went wrong.\n",
    "\n",
    "To make a ‘GET’ request, we’ll use the requests.get() function, which requires one argument — the URL we want to make the request to. We’ll start by making a request to an API endpoint that doesn’t exist, so we can see what that response code looks like. "
   ]
  },
  {
   "cell_type": "code",
   "execution_count": null,
   "id": "speaking-oliver",
   "metadata": {},
   "outputs": [],
   "source": [
    "response = requests.get(\"https://api.open-notify.org/this-api-doesnt-exist\")\n",
    "# if you run this cell you will get an error. \n"
   ]
  },
  {
   "cell_type": "markdown",
   "id": "unable-brook",
   "metadata": {},
   "source": [
    "The get() function returns a response object. We can use the response.status_code attribute to receive the status code for our request:\n",
    "in this case we will have the status code 404. \n"
   ]
  },
  {
   "cell_type": "code",
   "execution_count": 5,
   "id": "varied-overview",
   "metadata": {},
   "outputs": [
    {
     "ename": "NameError",
     "evalue": "name 'response' is not defined",
     "output_type": "error",
     "traceback": [
      "\u001b[1;31m---------------------------------------------------------------------------\u001b[0m",
      "\u001b[1;31mNameError\u001b[0m                                 Traceback (most recent call last)",
      "\u001b[1;32m<ipython-input-5-fbe771fefb5a>\u001b[0m in \u001b[0;36m<module>\u001b[1;34m\u001b[0m\n\u001b[1;32m----> 1\u001b[1;33m \u001b[0mprint\u001b[0m\u001b[1;33m(\u001b[0m\u001b[0mresponse\u001b[0m\u001b[1;33m.\u001b[0m\u001b[0mstatus_code\u001b[0m\u001b[1;33m)\u001b[0m\u001b[1;33m\u001b[0m\u001b[1;33m\u001b[0m\u001b[0m\n\u001b[0m",
      "\u001b[1;31mNameError\u001b[0m: name 'response' is not defined"
     ]
    }
   ],
   "source": [
    "print(response.status_code)"
   ]
  },
  {
   "cell_type": "markdown",
   "id": "genetic-bridges",
   "metadata": {},
   "source": [
    "The ‘404’ status code might be familiar to you — it’s the status code that a server returns if it can’t find the file we requested. In this case, we asked for this-api-doesnt-exist which (surprise, surprise) didn’t exist!\n",
    "\n",
    "Let’s learn a little more about common status codes."
   ]
  },
  {
   "cell_type": "markdown",
   "id": "included-african",
   "metadata": {},
   "source": [
    "## API Status Codes\n",
    "\n",
    "Status codes are returned with every request that is made to a web server. Status codes indicate information about what happened with a request. Here are some codes that are relevant to GET requests:\n",
    " - 200: Everything went okay, and the result has been returned (if any).\n",
    " - 301: The server is redirecting you to a different endpoint. This can happen when a company switches domain names, or an endpoint name is changed.\n",
    " - 400: The server thinks you made a bad request. This can happen when you don’t send along the right data, among other things.\n",
    " - 401: The server thinks you’re not authenticated. Many APIs require login ccredentials, so this happens when you don’t send the right credentials to access an API.\n",
    " - 403: The resource you’re trying to access is forbidden: you don’t have the right permissions to see it.\n",
    " - 404: The resource you tried to access wasn’t found on the server.\n",
    " - 503: The server is not ready to handle the request.\n",
    " \n",
    " \n",
    "You might notice that all of the status codes that begin with a ‘4’ indicate some sort of error. The first number of status codes indicate their categorization. This is useful — you can know that if your status code starts with a ‘2’ it was successful and if it starts with a ‘4’ or ‘5’ there was an error. If you’re interested you can read more about [status codes here](https://developer.mozilla.org/en-US/docs/Web/HTTP/Status)"
   ]
  },
  {
   "cell_type": "markdown",
   "id": "actual-victim",
   "metadata": {},
   "source": [
    "## API Documentation\n"
   ]
  },
  {
   "cell_type": "markdown",
   "id": "sustained-johnston",
   "metadata": {},
   "source": [
    "In order to ensure we make a successful request, when we work with APIs it’s important to consult the documentation. Documentation can seem scary at first, but as you use documentation more and more you’ll find it gets easier."
   ]
  },
  {
   "cell_type": "code",
   "execution_count": 7,
   "id": "matched-hypothetical",
   "metadata": {},
   "outputs": [],
   "source": [
    "url = 'http://api.open-notify.org/astros.json'"
   ]
  },
  {
   "cell_type": "code",
   "execution_count": 8,
   "id": "clean-angel",
   "metadata": {},
   "outputs": [
    {
     "data": {
      "text/plain": [
       "200"
      ]
     },
     "execution_count": 8,
     "metadata": {},
     "output_type": "execute_result"
    }
   ],
   "source": [
    "response = requests.get(url)\n",
    "response.status_code"
   ]
  },
  {
   "cell_type": "code",
   "execution_count": 9,
   "id": "unable-relative",
   "metadata": {},
   "outputs": [
    {
     "name": "stdout",
     "output_type": "stream",
     "text": [
      "{'people': [{'name': 'Mark Vande Hei', 'craft': 'ISS'}, {'name': 'Oleg Novitskiy', 'craft': 'ISS'}, {'name': 'Pyotr Dubrov', 'craft': 'ISS'}, {'name': 'Thomas Pesquet', 'craft': 'ISS'}, {'name': 'Megan McArthur', 'craft': 'ISS'}, {'name': 'Shane Kimbrough', 'craft': 'ISS'}, {'name': 'Akihiko Hoshide', 'craft': 'ISS'}, {'name': 'Nie Haisheng', 'craft': 'Tiangong'}, {'name': 'Liu Boming', 'craft': 'Tiangong'}, {'name': 'Tang Hongbo', 'craft': 'Tiangong'}], 'number': 10, 'message': 'success'}\n"
     ]
    }
   ],
   "source": [
    "print(response.json())"
   ]
  },
  {
   "cell_type": "markdown",
   "id": "former-efficiency",
   "metadata": {},
   "source": [
    "## Working with JSON Data in Python\n",
    "\n",
    "\n",
    "JSON (JavaScript Object Notation) is the language of APIs. JSON is a way to encode data structures that ensures that they are easily readable by machines. JSON is the primary format in which data is passed back and forth to APIs, and most API servers will send their responses in JSON format.\n",
    "\n",
    "You might have noticed that the JSON output we received from the API looked like it contained Python dictionaries, lists, strings and integers. You can think of JSON as being a combination of these objects represented as strings. Let’s look at a simple example: \n",
    "\n",
    "<img src=\"json.PNG\">\n",
    "\n",
    "Python has great JSON support with the json package. The json package is part of the standard library, so we don’t have to install anything to use it. We can both convert lists and dictionaries to JSON, and convert strings to lists and dictionaries. In the case of our ISS Pass data, it is a dictionary encoded to a string in JSON format.\n",
    "\n",
    "The json library has two main functions:\n",
    "\n",
    " - json.dumps() — Takes in a Python object, and converts (dumps) it to a string.\n",
    " - json.loads() — Takes a JSON string, and converts (loads) it to a Python object.\n",
    " \n",
    "The dumps() function is particularly useful as we can use it to print a formatted string which makes it easier to understand the JSON output, like in the diagram we saw above: "
   ]
  },
  {
   "cell_type": "code",
   "execution_count": 10,
   "id": "freelance-substitute",
   "metadata": {},
   "outputs": [
    {
     "name": "stdout",
     "output_type": "stream",
     "text": [
      "{\n",
      "    \"message\": \"success\",\n",
      "    \"number\": 10,\n",
      "    \"people\": [\n",
      "        {\n",
      "            \"craft\": \"ISS\",\n",
      "            \"name\": \"Mark Vande Hei\"\n",
      "        },\n",
      "        {\n",
      "            \"craft\": \"ISS\",\n",
      "            \"name\": \"Oleg Novitskiy\"\n",
      "        },\n",
      "        {\n",
      "            \"craft\": \"ISS\",\n",
      "            \"name\": \"Pyotr Dubrov\"\n",
      "        },\n",
      "        {\n",
      "            \"craft\": \"ISS\",\n",
      "            \"name\": \"Thomas Pesquet\"\n",
      "        },\n",
      "        {\n",
      "            \"craft\": \"ISS\",\n",
      "            \"name\": \"Megan McArthur\"\n",
      "        },\n",
      "        {\n",
      "            \"craft\": \"ISS\",\n",
      "            \"name\": \"Shane Kimbrough\"\n",
      "        },\n",
      "        {\n",
      "            \"craft\": \"ISS\",\n",
      "            \"name\": \"Akihiko Hoshide\"\n",
      "        },\n",
      "        {\n",
      "            \"craft\": \"Tiangong\",\n",
      "            \"name\": \"Nie Haisheng\"\n",
      "        },\n",
      "        {\n",
      "            \"craft\": \"Tiangong\",\n",
      "            \"name\": \"Liu Boming\"\n",
      "        },\n",
      "        {\n",
      "            \"craft\": \"Tiangong\",\n",
      "            \"name\": \"Tang Hongbo\"\n",
      "        }\n",
      "    ]\n",
      "}\n"
     ]
    }
   ],
   "source": [
    "import json\n",
    "\n",
    "def jprint(obj):\n",
    "    # create a formated string of the Python json object\n",
    "    text = json.dumps(obj,sort_keys=True,indent=4)\n",
    "    print(text)\n",
    "    \n",
    "\n",
    "jprint(response.json())"
   ]
  },
  {
   "cell_type": "markdown",
   "id": "pending-description",
   "metadata": {},
   "source": [
    "Immediately we can understand the structure of the data more easily – we can see that their are Ten people currently in space, with their names existing as dictionaries inside a list.\n"
   ]
  },
  {
   "cell_type": "markdown",
   "id": "entitled-knight",
   "metadata": {},
   "source": [
    "### Using an API with Query Parameters\n",
    "The <a> http://api.open-notify.org/astros.json</a> endpoint we used earlier does not take any parameters. We just send a GET request and the API sends back data about the number of people currently in space.\n",
    "\n",
    "It’s very common, however, to have an API endpoint that requires us to specify parameters. An example of this the <a> http://api.open-notify.org/astros.json</a> endpoint. This endpoint tells us the next times that the international space station will pass over a given location on the earth.\n",
    "\n",
    "If we look at the documentation, it specifies required lat (latitude) and long (longitude) parameters.\n",
    "\n",
    "We can do this by adding an optional keyword argument, params, to our request. We can make a dictionary with these parameters, and then pass them into the requests.get function. Here’s what our dictionary would look like, using coordinates for New York City: "
   ]
  },
  {
   "cell_type": "code",
   "execution_count": 15,
   "id": "southeast-operation",
   "metadata": {},
   "outputs": [],
   "source": [
    "parameters = {\n",
    "    \"lat\": 40.71,\n",
    "    \"lon\": -74\n",
    "}"
   ]
  },
  {
   "cell_type": "markdown",
   "id": "described-honor",
   "metadata": {},
   "source": [
    "We can also do the same thing directly by adding the parameters directly to the URL. like this\n",
    "\n",
    "http://api.open-notify.org/astros.json?lat=40.71&lon=-74\n",
    "\n",
    "It’s almost always preferable to setup the parameters as a dictionary, because requests takes care of some things that come up, like properly formatting the query parameters, and we don’t need to worry about inserting the values into the URL string.\n",
    "\n",
    "Let’s make a request using these coordinates and see what response we get. "
   ]
  },
  {
   "cell_type": "code",
   "execution_count": 18,
   "id": "imperial-project",
   "metadata": {},
   "outputs": [
    {
     "name": "stdout",
     "output_type": "stream",
     "text": [
      "{\n",
      "    \"message\": \"success\",\n",
      "    \"number\": 10,\n",
      "    \"people\": [\n",
      "        {\n",
      "            \"craft\": \"ISS\",\n",
      "            \"name\": \"Mark Vande Hei\"\n",
      "        },\n",
      "        {\n",
      "            \"craft\": \"ISS\",\n",
      "            \"name\": \"Oleg Novitskiy\"\n",
      "        },\n",
      "        {\n",
      "            \"craft\": \"ISS\",\n",
      "            \"name\": \"Pyotr Dubrov\"\n",
      "        },\n",
      "        {\n",
      "            \"craft\": \"ISS\",\n",
      "            \"name\": \"Thomas Pesquet\"\n",
      "        },\n",
      "        {\n",
      "            \"craft\": \"ISS\",\n",
      "            \"name\": \"Megan McArthur\"\n",
      "        },\n",
      "        {\n",
      "            \"craft\": \"ISS\",\n",
      "            \"name\": \"Shane Kimbrough\"\n",
      "        },\n",
      "        {\n",
      "            \"craft\": \"ISS\",\n",
      "            \"name\": \"Akihiko Hoshide\"\n",
      "        },\n",
      "        {\n",
      "            \"craft\": \"Tiangong\",\n",
      "            \"name\": \"Nie Haisheng\"\n",
      "        },\n",
      "        {\n",
      "            \"craft\": \"Tiangong\",\n",
      "            \"name\": \"Liu Boming\"\n",
      "        },\n",
      "        {\n",
      "            \"craft\": \"Tiangong\",\n",
      "            \"name\": \"Tang Hongbo\"\n",
      "        }\n",
      "    ]\n",
      "}\n"
     ]
    }
   ],
   "source": [
    "res = requests.get('http://api.open-notify.org/astros.json?lat=40.71&lon=-74')\n",
    "jprint(res.json())"
   ]
  },
  {
   "cell_type": "markdown",
   "id": "dimensional-breath",
   "metadata": {},
   "source": [
    "## Understanding the Pass Times\n",
    "The JSON response matches what the documentation specified:\n",
    "\n",
    " - A dictionary with three keys\n",
    " - The third key, response, contains a list of pass times\n",
    " - Each pass time is a dictionary with risetime (pass start time) and duration keys.\n",
    "Let’s extract the pass times from our JSON object: "
   ]
  },
  {
   "cell_type": "markdown",
   "id": "promising-jason",
   "metadata": {},
   "source": [
    "if you want to know more about the advance API refer to this [advance API](https://www.dataquest.io/blog/last-fm-api-python/)"
   ]
  },
  {
   "cell_type": "code",
   "execution_count": null,
   "id": "worthy-campbell",
   "metadata": {},
   "outputs": [],
   "source": []
  }
 ],
 "metadata": {
  "kernelspec": {
   "display_name": "Python 3",
   "language": "python",
   "name": "python3"
  },
  "language_info": {
   "codemirror_mode": {
    "name": "ipython",
    "version": 3
   },
   "file_extension": ".py",
   "mimetype": "text/x-python",
   "name": "python",
   "nbconvert_exporter": "python",
   "pygments_lexer": "ipython3",
   "version": "3.8.8"
  }
 },
 "nbformat": 4,
 "nbformat_minor": 5
}
