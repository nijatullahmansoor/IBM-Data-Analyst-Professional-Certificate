{
 "cells": [
  {
   "cell_type": "markdown",
   "metadata": {},
   "source": [
    "<center>\n",
    "    <img src=\"https://gitlab.com/ibm/skills-network/courses/placeholder101/-/raw/master/labs/module%201/images/IDSNlogo.png\" width=\"300\" alt=\"cognitiveclass.ai logo\"  />\n",
    "</center>\n"
   ]
  },
  {
   "cell_type": "markdown",
   "metadata": {},
   "source": [
    "# **Web Scraping Lab**\n"
   ]
  },
  {
   "cell_type": "markdown",
   "metadata": {},
   "source": [
    "Estimated time needed: **30** minutes\n"
   ]
  },
  {
   "cell_type": "markdown",
   "metadata": {},
   "source": [
    "## Objectives\n"
   ]
  },
  {
   "cell_type": "markdown",
   "metadata": {},
   "source": [
    "After completing this lab you will be able to:\n"
   ]
  },
  {
   "cell_type": "markdown",
   "metadata": {},
   "source": [
    "*   Download a webpage using requests module\n",
    "*   Scrape all links from a web page\n",
    "*   Scrape all image urls from a web page\n",
    "*   Scrape data from html tables\n"
   ]
  },
  {
   "cell_type": "markdown",
   "metadata": {},
   "source": [
    "## Scrape www.ibm.com\n"
   ]
  },
  {
   "cell_type": "markdown",
   "metadata": {},
   "source": [
    "Import the required modules and functions\n"
   ]
  },
  {
   "cell_type": "code",
   "execution_count": 1,
   "metadata": {},
   "outputs": [],
   "source": [
    "from bs4 import BeautifulSoup # this module helps in web scrapping.\n",
    "import requests  # this module helps us to download a web page"
   ]
  },
  {
   "cell_type": "markdown",
   "metadata": {},
   "source": [
    "Download the contents of the web page\n"
   ]
  },
  {
   "cell_type": "code",
   "execution_count": 2,
   "metadata": {},
   "outputs": [],
   "source": [
    "url = \"http://www.ibm.com\""
   ]
  },
  {
   "cell_type": "code",
   "execution_count": 4,
   "metadata": {},
   "outputs": [],
   "source": [
    "# get the contents of the webpage in text format and store in a variable called data\n",
    "data  = requests.get(url).text "
   ]
  },
  {
   "cell_type": "markdown",
   "metadata": {},
   "source": [
    "Create a soup object using the class BeautifulSoup\n"
   ]
  },
  {
   "cell_type": "code",
   "execution_count": 5,
   "metadata": {},
   "outputs": [],
   "source": [
    "soup = BeautifulSoup(data,\"html5lib\")  # create a soup object using the variable 'data'"
   ]
  },
  {
   "cell_type": "markdown",
   "metadata": {},
   "source": [
    "Scrape all links\n"
   ]
  },
  {
   "cell_type": "code",
   "execution_count": 6,
   "metadata": {},
   "outputs": [
    {
     "name": "stdout",
     "output_type": "stream",
     "text": [
      "https://www.ibm.com/in/en\n",
      "https://www.ibm.com/sitemap/in/en\n",
      "/in-en/analytics/data-science\n",
      "/in-en/about\n",
      "https://in.newsroom.ibm.com/2021-05-26-IBMs-response-to-COVID-19?lnk=inhpv11\n",
      "/in-en/events/cloud-podcasts\n",
      "https://developer.ibm.com/callforcode/?utm_medium=OSocial&utm_source=Blog&utm_content=000031SE&utm_term=10008401&utm_id=Homepage-inside\n",
      "https://www.ibm.com/blogs/journey-to-ai/2021/03/ibm-is-named-a-leader-2021-magic-quadrant-for-data-science-and-machine-learning-platforms/\n",
      "https://www.ibm.com/account/reg/signup?formid=urx-49364\n",
      "https://www.ibm.com/training/cloud?lnk=inhpv2\n",
      "/in-en/products/offers-and-discounts\n",
      "/in-en/cloud/free\n",
      "https://www.ibm.com/account/reg/signup?formid=urx-46597&lnk=STW_IN_HP_T2_BLK&psrc=NONE&pexp=DEF&lnk2=trial_RoboticProcess\n",
      "/in-en/products/cloud-pak-for-data\n",
      "/products/digital-learning-subscription/pricing?lnk=STW_IN_HP_T5_BLK&psrc=NONE&pexp=DEF&lnk2=trial_training\n",
      "/in-en/security/identity-access-management/cloud-identity\n",
      "/in-en/cloud/aspera\n",
      "https://developer.ibm.com/depmodels/cloud/?lnk=hpv18ct16\n",
      "https://developer.ibm.com/technologies/artificial-intelligence?lnk=hpv18ct19\n",
      "https://www.ibm.com/demos/?lnk=hpv18ct12\n",
      "https://developer.ibm.com/?lnk=hpv18ct9\n",
      "https://www.ibm.com/docs/en?lnk=hpv18ct14\n",
      "https://www.redbooks.ibm.com/?lnk=ushpv18ct10\n",
      "https://www.ibm.com/support/home/?lnk=hpv18ct11\n",
      "https://www.ibm.com/training/?lnk=hpv18ct15\n",
      "/in-en/cloud/hybrid?lnk=inhpv18pt1\n",
      "/cloud/learn/public-cloud?lnk=inhpv18pt2\n",
      "/in-en/watson?lnk=inhpv18pt3\n",
      "/in-en/garage?lnk=inhpv18pt4\n",
      "/in-en/blockchain?lnk=inhpv18pt5\n",
      "https://www.ibm.com/thought-leadership/institute-business-value/?lnk=inhpv18pt6\n",
      "/in-en/analytics?lnk=inhpv18pt7\n",
      "/in-en/security?lnk=inhpv18pt8\n",
      "/in-en/financing?lnk=inhpv18pt9\n",
      "/in-en/cloud/redhat?lnk=hpv18ct1\n",
      "/in-en/cloud/automation?lnk=hpv18ct2\n",
      "/in-en/cloud/satellite?lnk=hpv18ct3\n",
      "/in-en/security/zero-trust?lnk=hpv18ct41\n",
      "/in-en/it-infrastructure?lnk=hpv18ct4\n",
      "https://www.ibm.com/quantum-computing?lnk=hpv18ct5\n",
      "/in-en/cloud/learn/kubernetes?lnk=ushpv18ct8?lnk=hpv18ct6\n",
      "/in-en/products/spss-statistics?lnk=ushpv18ct7\n",
      "/in-en/blockchain?lnk=hpv18ct8\n",
      "https://www.ibm.com/in-en/employment?lnk=hpv18ct2\n",
      "https://www.ibm.com/case-studies/federal-bank/?lnk=hpv18cs1\n",
      "/case-studies/search?lnk=hpv18cs2\n",
      "#\n"
     ]
    }
   ],
   "source": [
    "for link in soup.find_all('a'):  # in html anchor/link is represented by the tag <a>\n",
    "    print(link.get('href'))"
   ]
  },
  {
   "cell_type": "markdown",
   "metadata": {},
   "source": [
    "Scrape  all images\n"
   ]
  },
  {
   "cell_type": "code",
   "execution_count": 7,
   "metadata": {},
   "outputs": [
    {
     "name": "stdout",
     "output_type": "stream",
     "text": [
      "//1.cms.s81c.com/sites/default/files/2021-05-26/Small-rbf07708.jpg\n",
      "//1.cms.s81c.com/sites/default/files/2021-03-26/Logo-Lockup-444-w-x-320h-px.jpg\n",
      "//1.cms.s81c.com/sites/default/files/2021-05-02/Original-CFC-444x320%20%281%29.jpg\n",
      "//1.cms.s81c.com/sites/default/files/2021-03-26/cc%20%281%29.jpg\n",
      "//1.cms.s81c.com/sites/default/files/2021-03-26/20210301-xforce-threat-intelligence-444x320%20%281%29.png\n",
      "//1.cms.s81c.com/sites/default/files/2021-04-30/cq5dam.web_.1280.1280.jpeg\n",
      "//1.cms.s81c.com/sites/default/files/2021-04-07/ibm-cloud-trial.png\n",
      "//1.cms.s81c.com/sites/default/files/2021-04-09/robotic-process-automation.png\n",
      "//1.cms.s81c.com/sites/default/files/2021-04-07/cloud-pak-for-data-trial.png\n",
      "//1.cms.s81c.com/sites/default/files/2021-04-30/Digital-Learning-Subscription-trial.png\n",
      "//1.cms.s81c.com/sites/default/files/2021-04-27/security-verify-trial%20%281%29.png\n",
      "//1.cms.s81c.com/sites/default/files/2021-04-27/Aspera-on-Cloud-19783-700x420.png\n"
     ]
    }
   ],
   "source": [
    "for link in soup.find_all('img'):# in html image is represented by the tag <img>\n",
    "    print(link.get('src'))"
   ]
  },
  {
   "cell_type": "markdown",
   "metadata": {},
   "source": [
    "## Scrape data from html tables\n"
   ]
  },
  {
   "cell_type": "code",
   "execution_count": 8,
   "metadata": {},
   "outputs": [],
   "source": [
    "#The below url contains a html table with data about colors and color codes."
   ]
  },
  {
   "cell_type": "code",
   "execution_count": 9,
   "metadata": {},
   "outputs": [],
   "source": [
    "url = \"https://cf-courses-data.s3.us.cloud-object-storage.appdomain.cloud/IBM-DA0321EN-SkillsNetwork/labs/datasets/HTMLColorCodes.html\""
   ]
  },
  {
   "cell_type": "markdown",
   "metadata": {},
   "source": [
    "Before proceeding to scrape a web site, you need to examine the contents, and the way data is organized on the website. Open the above url in your browser and check how many rows and columns are there in the color table.\n"
   ]
  },
  {
   "cell_type": "code",
   "execution_count": 10,
   "metadata": {},
   "outputs": [],
   "source": [
    "# get the contents of the webpage in text format and store in a variable called data\n",
    "data  = requests.get(url).text"
   ]
  },
  {
   "cell_type": "code",
   "execution_count": 11,
   "metadata": {},
   "outputs": [],
   "source": [
    "soup = BeautifulSoup(data,\"html5lib\")"
   ]
  },
  {
   "cell_type": "code",
   "execution_count": 12,
   "metadata": {},
   "outputs": [],
   "source": [
    "#find a html table in the web page\n",
    "table = soup.find('table') # in html table is represented by the tag <table>"
   ]
  },
  {
   "cell_type": "code",
   "execution_count": 13,
   "metadata": {},
   "outputs": [
    {
     "name": "stdout",
     "output_type": "stream",
     "text": [
      "Color Name--->Hex Code#RRGGBB\n",
      "lightsalmon--->#FFA07A\n",
      "salmon--->#FA8072\n",
      "darksalmon--->#E9967A\n",
      "lightcoral--->#F08080\n",
      "coral--->#FF7F50\n",
      "tomato--->#FF6347\n",
      "orangered--->#FF4500\n",
      "gold--->#FFD700\n",
      "orange--->#FFA500\n",
      "darkorange--->#FF8C00\n",
      "lightyellow--->#FFFFE0\n",
      "lemonchiffon--->#FFFACD\n",
      "papayawhip--->#FFEFD5\n",
      "moccasin--->#FFE4B5\n",
      "peachpuff--->#FFDAB9\n",
      "palegoldenrod--->#EEE8AA\n",
      "khaki--->#F0E68C\n",
      "darkkhaki--->#BDB76B\n",
      "yellow--->#FFFF00\n",
      "lawngreen--->#7CFC00\n",
      "chartreuse--->#7FFF00\n",
      "limegreen--->#32CD32\n",
      "lime--->#00FF00\n",
      "forestgreen--->#228B22\n",
      "green--->#008000\n",
      "powderblue--->#B0E0E6\n",
      "lightblue--->#ADD8E6\n",
      "lightskyblue--->#87CEFA\n",
      "skyblue--->#87CEEB\n",
      "deepskyblue--->#00BFFF\n",
      "lightsteelblue--->#B0C4DE\n",
      "dodgerblue--->#1E90FF\n"
     ]
    }
   ],
   "source": [
    "#Get all rows from the table\n",
    "for row in table.find_all('tr'): # in html table row is represented by the tag <tr>\n",
    "    # Get all columns in each row.\n",
    "    cols = row.find_all('td') # in html a column is represented by the tag <td>\n",
    "    color_name = cols[2].getText() # store the value in column 3 as color_name\n",
    "    color_code = cols[3].getText() # store the value in column 4 as color_code\n",
    "    print(\"{}--->{}\".format(color_name,color_code))"
   ]
  },
  {
   "cell_type": "markdown",
   "metadata": {},
   "source": [
    "## Authors\n"
   ]
  },
  {
   "cell_type": "markdown",
   "metadata": {},
   "source": [
    "Ramesh Sannareddy\n"
   ]
  },
  {
   "cell_type": "markdown",
   "metadata": {},
   "source": [
    "### Other Contributors\n"
   ]
  },
  {
   "cell_type": "markdown",
   "metadata": {},
   "source": [
    "Rav Ahuja\n"
   ]
  },
  {
   "cell_type": "markdown",
   "metadata": {},
   "source": [
    "## Change Log\n"
   ]
  },
  {
   "cell_type": "markdown",
   "metadata": {},
   "source": [
    "|  Date (YYYY-MM-DD) |  Version | Changed By  |  Change Description |\n",
    "|---|---|---|---|\n",
    "| 2020-10-17  | 0.1  | Ramesh Sannareddy  |  Created initial version of the lab |\n"
   ]
  },
  {
   "cell_type": "markdown",
   "metadata": {},
   "source": [
    "Copyright © 2020 IBM Corporation. This notebook and its source code are released under the terms of the [MIT License](https://cognitiveclass.ai/mit-license/?utm_medium=Exinfluencer\\&utm_source=Exinfluencer\\&utm_content=000026UJ\\&utm_term=10006555\\&utm_id=NA-SkillsNetwork-Channel-SkillsNetworkCoursesIBMDA0321ENSkillsNetwork21426264-2021-01-01).\n"
   ]
  }
 ],
 "metadata": {
  "kernelspec": {
   "display_name": "Python 3",
   "language": "python",
   "name": "python3"
  },
  "language_info": {
   "codemirror_mode": {
    "name": "ipython",
    "version": 3
   },
   "file_extension": ".py",
   "mimetype": "text/x-python",
   "name": "python",
   "nbconvert_exporter": "python",
   "pygments_lexer": "ipython3",
   "version": "3.8.8"
  }
 },
 "nbformat": 4,
 "nbformat_minor": 4
}
